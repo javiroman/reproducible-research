{
 "cells": [
  {
   "cell_type": "code",
   "execution_count": 5,
   "metadata": {
    "collapsed": false
   },
   "outputs": [
    {
     "name": "stdout",
     "output_type": "stream",
     "text": [
      "Overwriting ref.bib\n"
     ]
    }
   ],
   "source": [
    "%%writefile ref.bib\n",
    "\n",
    "@Article{PER-GRA_2007,\n",
    "  Author         = {Perez, Fernando and Granger, Brian E.},\n",
    "  Title          = {{IP}ython: a {S}ystem for {I}nteractive {S}cientific\n",
    "                 {C}omputing},\n",
    "  Journal        = {{C}omput. {S}ci. {E}ng.},\n",
    "  Volume         = {9},\n",
    "  Number         = {3},\n",
    "  Pages          = {21-29},\n",
    "  month          = may,\n",
    "  year           = 2007,\n",
    "  url            = \"http://ipython.org\",\n",
    "}"
   ]
  },
  {
   "cell_type": "code",
   "execution_count": null,
   "metadata": {
    "collapsed": true
   },
   "outputs": [],
   "source": []
  },
  {
   "cell_type": "code",
   "execution_count": 7,
   "metadata": {
    "collapsed": false
   },
   "outputs": [
    {
     "name": "stdout",
     "output_type": "stream",
     "text": [
      "Overwriting section2.tex\n"
     ]
    }
   ],
   "source": [
    "%%writefile section2.tex\n",
    "\n",
    "%This is the section that contains the image.\n",
    "\n",
    "\\subsection{Part2}\n",
    "\n",
    "This is the second section of your new \\LaTeX document.\n",
    "\n",
    "We also plot the graphs of $\\frac{sin(5x)}{10}+0.5$ and $sin(x^2)$ for no reason.\n",
    "\n",
    "\\begin{figure}[H]\n",
    "\\centering\n",
    "\\includegraphics[width = \\textwidth]{figure.png}\n",
    "\\caption{\\emph{Here is your figure, all neat in \\LaTeX.}}\n",
    "\\end{figure}"
   ]
  },
  {
   "cell_type": "code",
   "execution_count": 9,
   "metadata": {
    "collapsed": false
   },
   "outputs": [
    {
     "name": "stdout",
     "output_type": "stream",
     "text": [
      "Overwriting abstract.tex\n"
     ]
    }
   ],
   "source": [
    "%%writefile abstract.tex\n",
    "\n",
    "\\begin{abstract}\n",
    "This is the poor man's solution  to integrating all of your shit into one dynamic document.\n",
    "\\end{abstract}"
   ]
  },
  {
   "cell_type": "code",
   "execution_count": 15,
   "metadata": {
    "collapsed": false
   },
   "outputs": [
    {
     "name": "stdout",
     "output_type": "stream",
     "text": [
      "Overwriting test2.tex\n"
     ]
    }
   ],
   "source": [
    "%%writefile test2.tex\n",
    "\n",
    "\\documentclass[a4paper,11pt]{article} %This is the standard Latex article template\n",
    "\\usepackage[T1]{fontenc}\n",
    "\\usepackage[utf8]{inputenc}\n",
    "\\usepackage{lmodern}\n",
    "\\usepackage{graphicx}    % This is for the image, not sure if it is required, but its there none the less\n",
    "\\usepackage{float}       % This is for placing the image at a specific location\n",
    "\\usepackage[left=1.2cm,right=1.2cm,top=0cm,bottom=0cm]{geometry}\n",
    "\n",
    "\\title{\\LaTeX from Ipython notebooks}\n",
    "\\author{PA Marais}\n",
    "\n",
    "\\begin{document}\n",
    "\n",
    "\\maketitle\n",
    "\n",
    "\\input{abstract}\n",
    "%\\input{section1}\n",
    "\\input{section2}\n",
    "\n",
    "\\nocite{PER-GRA_2007}\n",
    "\\bibliographystyle{unsrt}\n",
    "\\bibliography{ref}\n",
    "\n",
    "\\end{document}"
   ]
  },
  {
   "cell_type": "code",
   "execution_count": 16,
   "metadata": {
    "collapsed": false
   },
   "outputs": [
    {
     "name": "stdout",
     "output_type": "stream",
     "text": [
      "This is BibTeX, Version 0.99d (TeX Live 2016/dev)\n",
      "The top-level auxiliary file: test2.aux\n",
      "I found no \\citation commands---while reading file test2.aux\n",
      "I found no \\bibdata command---while reading file test2.aux\n",
      "I found no \\bibstyle command---while reading file test2.aux\n",
      "(There were 3 error messages)\n",
      "This is pdfTeX, Version 3.14159265-2.6-1.40.16 (TeX Live 2016/dev) (preloaded format=pdflatex)\n",
      " restricted \\write18 enabled.\n",
      "entering extended mode\n",
      "(./test2.tex\n",
      "LaTeX2e <2015/01/01> patch level 2\n",
      "Babel <3.9m> and hyphenation patterns for 2 languages loaded.\n",
      "(/usr/share/texlive/texmf-dist/tex/latex/base/article.cls\n",
      "Document Class: article 2014/09/29 v1.4h Standard LaTeX document class\n",
      "(/usr/share/texlive/texmf-dist/tex/latex/base/size11.clo))\n",
      "(/usr/share/texlive/texmf-dist/tex/latex/base/fontenc.sty\n",
      "(/usr/share/texlive/texmf-dist/tex/latex/base/t1enc.def))\n",
      "(/usr/share/texlive/texmf-dist/tex/latex/base/inputenc.sty\n",
      "(/usr/share/texlive/texmf-dist/tex/latex/base/utf8.def\n",
      "(/usr/share/texlive/texmf-dist/tex/latex/base/t1enc.dfu)\n",
      "(/usr/share/texlive/texmf-dist/tex/latex/base/ot1enc.dfu)\n",
      "(/usr/share/texlive/texmf-dist/tex/latex/base/omsenc.dfu)))\n",
      "(/usr/share/texlive/texmf-dist/tex/latex/lm/lmodern.sty)\n",
      "(/usr/share/texlive/texmf-dist/tex/latex/graphics/graphicx.sty\n",
      "(/usr/share/texlive/texmf-dist/tex/latex/graphics/keyval.sty)\n",
      "(/usr/share/texlive/texmf-dist/tex/latex/graphics/graphics.sty\n",
      "(/usr/share/texlive/texmf-dist/tex/latex/graphics/trig.sty)\n",
      "(/usr/share/texlive/texmf-dist/tex/latex/latexconfig/graphics.cfg)\n",
      "(/usr/share/texlive/texmf-dist/tex/latex/pdftex-def/pdftex.def\n",
      "(/usr/share/texlive/texmf-dist/tex/generic/oberdiek/infwarerr.sty)\n",
      "(/usr/share/texlive/texmf-dist/tex/generic/oberdiek/ltxcmds.sty))))\n",
      "(/usr/share/texlive/texmf-dist/tex/latex/float/float.sty)\n",
      "(/usr/share/texlive/texmf-dist/tex/latex/geometry/geometry.sty\n",
      "(/usr/share/texlive/texmf-dist/tex/generic/oberdiek/ifpdf.sty)\n",
      "(/usr/share/texlive/texmf-dist/tex/generic/oberdiek/ifvtex.sty)\n",
      "(/usr/share/texlive/texmf-dist/tex/generic/ifxetex/ifxetex.sty)) (./test2.aux)\n",
      "(/usr/share/texlive/texmf-dist/tex/latex/lm/t1lmr.fd)\n",
      "(/usr/share/texlive/texmf-dist/tex/context/base/supp-pdf.mkii\n",
      "[Loading MPS to PDF converter (version 2006.09.02).]\n",
      ") (/usr/share/texlive/texmf-dist/tex/generic/oberdiek/pdftexcmds.sty\n",
      "(/usr/share/texlive/texmf-dist/tex/generic/oberdiek/ifluatex.sty))\n",
      "(/usr/share/texlive/texmf-dist/tex/latex/oberdiek/epstopdf-base.sty\n",
      "(/usr/share/texlive/texmf-dist/tex/latex/oberdiek/grfext.sty\n",
      "(/usr/share/texlive/texmf-dist/tex/generic/oberdiek/kvdefinekeys.sty))\n",
      "(/usr/share/texlive/texmf-dist/tex/latex/oberdiek/kvoptions.sty\n",
      "(/usr/share/texlive/texmf-dist/tex/generic/oberdiek/kvsetkeys.sty\n",
      "(/usr/share/texlive/texmf-dist/tex/generic/oberdiek/etexcmds.sty)))\n",
      "(/usr/share/texlive/texmf-dist/tex/latex/latexconfig/epstopdf-sys.cfg))\n",
      "*geometry* driver: auto-detecting\n",
      "*geometry* detected driver: pdftex\n",
      "(/usr/share/texlive/texmf-dist/tex/latex/lm/ot1lmr.fd)\n",
      "(/usr/share/texlive/texmf-dist/tex/latex/lm/omllmm.fd)\n",
      "(/usr/share/texlive/texmf-dist/tex/latex/lm/omslmsy.fd)\n",
      "(/usr/share/texlive/texmf-dist/tex/latex/lm/omxlmex.fd) (./abstract.tex)\n",
      "(./section2.tex\n",
      "\n",
      "LaTeX Warning: File `figure.png' not found on input line 12.\n",
      "\n",
      "\n",
      "! Package pdftex.def Error: File `figure.png' not found.\n",
      "\n",
      "See the pdftex.def package documentation for explanation.\n",
      "Type  H <return>  for immediate help.\n",
      " ...                                              \n",
      "                                                  \n",
      "l.12 ...degraphics[width = \\textwidth]{figure.png}\n",
      "                                                  \n",
      "? No pages of output.\n",
      "Transcript written on test2.log.\n"
     ]
    }
   ],
   "source": [
    "%%bash\n",
    "\n",
    "#use pandoc to convert section one to tex code from markdown\n",
    "#pandoc -f markdown -t latex section1.txt -o section1.tex \n",
    "\n",
    "#run the standard bibtex and pdflatex commands to generate your final pdf\n",
    "\n",
    "bibtex test2\n",
    "pdflatex test2.tex\n",
    "xdg-open test2.pdf"
   ]
  }
 ],
 "metadata": {
  "anaconda-cloud": {},
  "kernelspec": {
   "display_name": "Python [conda root]",
   "language": "python",
   "name": "conda-root-py"
  },
  "language_info": {
   "codemirror_mode": {
    "name": "ipython",
    "version": 3
   },
   "file_extension": ".py",
   "mimetype": "text/x-python",
   "name": "python",
   "nbconvert_exporter": "python",
   "pygments_lexer": "ipython3",
   "version": "3.5.2"
  }
 },
 "nbformat": 4,
 "nbformat_minor": 1
}
